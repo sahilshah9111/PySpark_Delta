{
  "nbformat": 4,
  "nbformat_minor": 0,
  "metadata": {
    "colab": {
      "name": "PySpark_Assignment.ipynb",
      "provenance": [],
      "authorship_tag": "ABX9TyOOVdfA/ZlvTND+b9wHus6v",
      "include_colab_link": true
    },
    "kernelspec": {
      "name": "python3",
      "display_name": "Python 3"
    },
    "language_info": {
      "name": "python"
    }
  },
  "cells": [
    {
      "cell_type": "markdown",
      "metadata": {
        "id": "view-in-github",
        "colab_type": "text"
      },
      "source": [
        "<a href=\"https://colab.research.google.com/github/sahilshah9111/PySpark_Delta/blob/main/PySpark_Assignment.ipynb\" target=\"_parent\"><img src=\"https://colab.research.google.com/assets/colab-badge.svg\" alt=\"Open In Colab\"/></a>"
      ]
    },
    {
      "cell_type": "markdown",
      "source": [
        "**TASK 1: ENVIRONMENT SETUP**"
      ],
      "metadata": {
        "id": "Radd3bG0HWrC"
      }
    },
    {
      "cell_type": "markdown",
      "source": [
        "Downloading Java"
      ],
      "metadata": {
        "id": "FzShm5F8LJ8b"
      }
    },
    {
      "cell_type": "code",
      "execution_count": 1,
      "metadata": {
        "id": "zkqYIGFYHObI"
      },
      "outputs": [],
      "source": [
        "!apt-get install openjdk-8-jdk-headless -qq > /dev/null"
      ]
    },
    {
      "cell_type": "markdown",
      "source": [
        "Download and unzip Apache Spark with Hadoop to install it"
      ],
      "metadata": {
        "id": "SXSvKcwKLOwc"
      }
    },
    {
      "cell_type": "code",
      "source": [
        "!wget -q https://archive.apache.org/dist/spark/spark-3.1.2/spark-3.1.2-bin-hadoop2.7.tgz"
      ],
      "metadata": {
        "id": "1xTvaGEhK_2t"
      },
      "execution_count": 2,
      "outputs": []
    },
    {
      "cell_type": "code",
      "source": [
        "!tar xf spark-3.1.2-bin-hadoop2.7.tgz"
      ],
      "metadata": {
        "id": "SRC8w0KSLhU_"
      },
      "execution_count": 3,
      "outputs": []
    },
    {
      "cell_type": "markdown",
      "source": [
        "Environment Variables for Java and Spark"
      ],
      "metadata": {
        "id": "DTvM0yJpLdOz"
      }
    },
    {
      "cell_type": "code",
      "source": [
        "import os\n",
        "os.environ[\"JAVA_HOME\"] = \"/usr/lib/jvm/java-8-openjdk-amd64\"\n",
        "os.environ[\"SPARK_HOME\"] = \"/content/spark-3.1.2-bin-hadoop2.7\"\n",
        "os.environ['PYSPARK_SUBMIT_ARGS'] = '--packages io.delta:delta-core_2.12:0.7.0 --conf spark.sql.extensions=io.delta.sql.DeltaSparkSessionExtension --conf spark.sql.catalog.spark_catalog=org.apache.spark.sql.delta.catalog.DeltaCatalog pyspark-shell'"
      ],
      "metadata": {
        "id": "sp2SHg7cLrjd"
      },
      "execution_count": 4,
      "outputs": []
    },
    {
      "cell_type": "code",
      "source": [
        "!pip install -q findspark\n",
        "import findspark\n",
        "findspark.init()"
      ],
      "metadata": {
        "id": "diq-7pVdMT4N"
      },
      "execution_count": 5,
      "outputs": []
    },
    {
      "cell_type": "code",
      "source": [
        "from pyspark.sql import SparkSession\n",
        "from pyspark.sql.functions import *\n",
        "spark = (SparkSession.builder.appName(\"PySpark Assign\").getOrCreate())"
      ],
      "metadata": {
        "id": "JO6Mwx0rMiMd"
      },
      "execution_count": 6,
      "outputs": []
    },
    {
      "cell_type": "markdown",
      "source": [
        "**TASK 2**"
      ],
      "metadata": {
        "id": "clSzUzStPBLs"
      }
    },
    {
      "cell_type": "code",
      "source": [
        "people = spark.read.csv(header = True, inferSchema = True, path = 'people.csv')\n",
        "people.show(3)"
      ],
      "metadata": {
        "colab": {
          "base_uri": "https://localhost:8080/"
        },
        "id": "7fTgmb1dPDVw",
        "outputId": "2c6e1000-aeab-4dda-c991-4ed3246e794a"
      },
      "execution_count": 7,
      "outputs": [
        {
          "output_type": "stream",
          "name": "stdout",
          "text": [
            "+---------+---------------+-------+-----+------+---------------+------------+------------+-------------------+\n",
            "|person_ID|           name|  first| last|middle|          email|       phone|         fax|              title|\n",
            "+---------+---------------+-------+-----+------+---------------+------------+------------+-------------------+\n",
            "|     3130|Burks, Rosella |Rosella|Burks|  null|BurksR@univ.edu|963.555.1253|963.777.4065|         Professor |\n",
            "|     3297| Avila, Damien | Damien|Avila|  null|AvilaD@univ.edu|963.555.1352|963.777.7914|         Professor |\n",
            "|     3547|  Olsen, Robin |  Robin|Olsen|  null|OlsenR@univ.edu|963.555.1378|963.777.9262|Assistant Professor|\n",
            "+---------+---------------+-------+-----+------+---------------+------------+------------+-------------------+\n",
            "only showing top 3 rows\n",
            "\n"
          ]
        }
      ]
    },
    {
      "cell_type": "code",
      "source": [
        "people.printSchema()"
      ],
      "metadata": {
        "colab": {
          "base_uri": "https://localhost:8080/"
        },
        "id": "GyK6gt1GQfaM",
        "outputId": "a2a5127b-db87-4ebd-a42c-d18beb21206f"
      },
      "execution_count": 8,
      "outputs": [
        {
          "output_type": "stream",
          "name": "stdout",
          "text": [
            "root\n",
            " |-- person_ID: integer (nullable = true)\n",
            " |-- name: string (nullable = true)\n",
            " |-- first: string (nullable = true)\n",
            " |-- last: string (nullable = true)\n",
            " |-- middle: string (nullable = true)\n",
            " |-- email: string (nullable = true)\n",
            " |-- phone: string (nullable = true)\n",
            " |-- fax: string (nullable = true)\n",
            " |-- title: string (nullable = true)\n",
            "\n"
          ]
        }
      ]
    },
    {
      "cell_type": "code",
      "source": [
        "people = people.fillna('Unknown')"
      ],
      "metadata": {
        "id": "_BFjHGIcqCZk"
      },
      "execution_count": 9,
      "outputs": []
    },
    {
      "cell_type": "code",
      "source": [
        "people.show(5)"
      ],
      "metadata": {
        "colab": {
          "base_uri": "https://localhost:8080/"
        },
        "id": "ii00lPDWsq_7",
        "outputId": "5c66df04-dc47-422b-9bc8-91b585523dad"
      },
      "execution_count": 10,
      "outputs": [
        {
          "output_type": "stream",
          "name": "stdout",
          "text": [
            "+---------+-------------------+-------+------+-------+----------------+-----------------+------------+-------------------+\n",
            "|person_ID|               name|  first|  last| middle|           email|            phone|         fax|              title|\n",
            "+---------+-------------------+-------+------+-------+----------------+-----------------+------------+-------------------+\n",
            "|     3130|    Burks, Rosella |Rosella| Burks|Unknown| BurksR@univ.edu|     963.555.1253|963.777.4065|         Professor |\n",
            "|     3297|     Avila, Damien | Damien| Avila|Unknown| AvilaD@univ.edu|     963.555.1352|963.777.7914|         Professor |\n",
            "|     3547|      Olsen, Robin |  Robin| Olsen|Unknown| OlsenR@univ.edu|     963.555.1378|963.777.9262|Assistant Professor|\n",
            "|     1538|Moises, Edgar Estes|  Edgar|Moises|  Estes|MoisesE@univ.edu|963.555.2731x3565|963.777.8264|          Professor|\n",
            "|     2941|Brian, Heath Pruitt|  Heath| Brian| Pruitt| BrianH@univ.edu|     963.555.2800|963.777.7249| Associate Curator |\n",
            "+---------+-------------------+-------+------+-------+----------------+-----------------+------------+-------------------+\n",
            "only showing top 5 rows\n",
            "\n"
          ]
        }
      ]
    },
    {
      "cell_type": "markdown",
      "source": [
        "Writing the above dataframe to delta format"
      ],
      "metadata": {
        "id": "8Sz-JuyGX0zl"
      }
    },
    {
      "cell_type": "code",
      "source": [
        "people.write.format(\"delta\").save(\"people_delta\")"
      ],
      "metadata": {
        "id": "UrFa1PBW7SDi"
      },
      "execution_count": 11,
      "outputs": []
    },
    {
      "cell_type": "code",
      "source": [
        "from delta.tables import *\n",
        "\n",
        "delta_df = DeltaTable.forPath(spark, \"people_delta\")"
      ],
      "metadata": {
        "id": "kew0CjAn6Usi"
      },
      "execution_count": 12,
      "outputs": []
    },
    {
      "cell_type": "code",
      "source": [
        "delta_df = delta_df.toDF()"
      ],
      "metadata": {
        "id": "lwmQQKDw6vl6"
      },
      "execution_count": 18,
      "outputs": []
    },
    {
      "cell_type": "code",
      "source": [
        "delta_df.show()"
      ],
      "metadata": {
        "colab": {
          "base_uri": "https://localhost:8080/"
        },
        "id": "9JiWofqkW__T",
        "outputId": "9ddaba44-72c8-4243-debb-3dddcefad340"
      },
      "execution_count": 20,
      "outputs": [
        {
          "output_type": "stream",
          "name": "stdout",
          "text": [
            "+---------+--------------------+---------+--------+--------+------------------+-----------------+------------+-------------------+\n",
            "|person_ID|                name|    first|    last|  middle|             email|            phone|         fax|              title|\n",
            "+---------+--------------------+---------+--------+--------+------------------+-----------------+------------+-------------------+\n",
            "|     3130|     Burks, Rosella |  Rosella|   Burks| Unknown|   BurksR@univ.edu|     963.555.1253|963.777.4065|         Professor |\n",
            "|     3297|      Avila, Damien |   Damien|   Avila| Unknown|   AvilaD@univ.edu|     963.555.1352|963.777.7914|         Professor |\n",
            "|     3547|       Olsen, Robin |    Robin|   Olsen| Unknown|   OlsenR@univ.edu|     963.555.1378|963.777.9262|Assistant Professor|\n",
            "|     1538| Moises, Edgar Estes|    Edgar|  Moises|   Estes|  MoisesE@univ.edu|963.555.2731x3565|963.777.8264|          Professor|\n",
            "|     2941| Brian, Heath Pruitt|    Heath|   Brian|  Pruitt|   BrianH@univ.edu|     963.555.2800|963.777.7249| Associate Curator |\n",
            "|     2401| Claude, Elvin Haney|    Elvin|  Claude|   Haney|  ClaudeE@univ.edu|     963.555.2902|963.777.9730|            Curator|\n",
            "|     2070|     Mosley, Edmund |   Edmund|  Mosley| Unknown|  MosleyE@univ.edu|     963.555.2945|963.777.9285|Assistant Professor|\n",
            "|     2561|Derek, Antoine Mccoy|  Antoine|   Derek|   Mccoy|   DerekA@univ.edu|     963.555.2992|963.777.5454|            Curator|\n",
            "|     1625|    Hawkins, Callie |   Callie| Hawkins| Unknown| HawkinsC@univ.edu|963.555.3350x6480|963.777.4949|          Professor|\n",
            "|     1307|       Pate, Andrea |   Andrea|    Pate| Unknown|    PateA@univ.edu|     963.555.3723|963.777.5049|          Professor|\n",
            "|     2342|        Austin, Liz |      Liz|  Austin| Unknown|  AustinL@univ.edu|     963.555.4305|963.777.6143|Assistant Professor|\n",
            "|     2755|Kendrick, Reba Al...|     Reba|Kendrick|  Alford|KendrickR@univ.edu|963.555.4618x7744|963.777.4371| Associate Curator |\n",
            "|     4150|     Sims, Angelina | Angelina|    Sims| Unknown|    SimsA@univ.edu|     963.555.5278|963.777.4400|          Professor|\n",
            "|     3544|  Mullins, Kimberly | Kimberly| Mullins| Unknown| MullinsK@univ.edu|963.555.5471x1017|963.777.9783|Assistant Professor|\n",
            "|     2096|  Chuck, Lloyd Haney|    Lloyd|   Chuck|   Haney|   ChuckL@univ.edu|963.555.5568x2652|963.777.9290|Assistant Professor|\n",
            "|     1089|     Payne, Ladonna |  Ladonna|   Payne| Unknown|   PayneL@univ.edu|     963.555.5639|963.777.6469|          Professor|\n",
            "|     2948|Baxter, Johnathan...|Johnathan|  Baxter|Browning|  BaxterJ@univ.edu|     963.555.5902|963.777.8336| Research Professor|\n",
            "|     4539|     Weiss, Gilbert |  Gilbert|   Weiss| Unknown|   WeissG@univ.edu|     963.555.5969|963.777.4975|          Professor|\n",
            "|     2811|Deirdre, Florence...| Florence| Deirdre| Barrera| DeirdreF@univ.edu|     963.555.6319|963.777.9654| Associate Curator |\n",
            "|     4580|Fernando, Toby Ca...|     Toby|Fernando|Calderon|FernandoT@univ.edu|     963.555.6469|963.777.9864| Research Professor|\n",
            "+---------+--------------------+---------+--------+--------+------------------+-----------------+------------+-------------------+\n",
            "only showing top 20 rows\n",
            "\n"
          ]
        }
      ]
    },
    {
      "cell_type": "code",
      "source": [
        "print(\"Total number of records: \")\n",
        "delta_df.count()"
      ],
      "metadata": {
        "colab": {
          "base_uri": "https://localhost:8080/"
        },
        "id": "vU1572B4aNyE",
        "outputId": "d0a90768-3a39-4148-cee2-acab15ed5fb5"
      },
      "execution_count": 22,
      "outputs": [
        {
          "output_type": "stream",
          "name": "stdout",
          "text": [
            "Total number of records: \n"
          ]
        },
        {
          "output_type": "execute_result",
          "data": {
            "text/plain": [
              "40"
            ]
          },
          "metadata": {},
          "execution_count": 22
        }
      ]
    }
  ]
}